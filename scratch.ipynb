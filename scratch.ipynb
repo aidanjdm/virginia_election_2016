{
 "cells": [
  {
   "cell_type": "code",
   "execution_count": 1,
   "metadata": {},
   "outputs": [],
   "source": [
    "import dash\n",
    "import dash_core_components as dcc\n",
    "import dash_html_components as html\n",
    "import pandas as pd\n",
    "import plotly as py\n",
    "import plotly.graph_objs as go\n",
    "from plotly.graph_objs import *\n",
    "\n",
    "###### Import a dataframe #######\n",
    "df = pd.read_pickle('virginia_totals.pkl')"
   ]
  },
  {
   "cell_type": "code",
   "execution_count": 3,
   "metadata": {},
   "outputs": [
    {
     "data": {
      "text/html": [
       "<div>\n",
       "<style scoped>\n",
       "    .dataframe tbody tr th:only-of-type {\n",
       "        vertical-align: middle;\n",
       "    }\n",
       "\n",
       "    .dataframe tbody tr th {\n",
       "        vertical-align: top;\n",
       "    }\n",
       "\n",
       "    .dataframe thead tr th {\n",
       "        text-align: left;\n",
       "    }\n",
       "</style>\n",
       "<table border=\"1\" class=\"dataframe\">\n",
       "  <thead>\n",
       "    <tr>\n",
       "      <th></th>\n",
       "      <th>county_name</th>\n",
       "      <th>FIPS</th>\n",
       "      <th>jurisdiction</th>\n",
       "      <th>precinct</th>\n",
       "      <th colspan=\"3\" halign=\"left\">votes</th>\n",
       "    </tr>\n",
       "    <tr>\n",
       "      <th>candidate</th>\n",
       "      <th></th>\n",
       "      <th></th>\n",
       "      <th></th>\n",
       "      <th></th>\n",
       "      <th>Donald Trump</th>\n",
       "      <th>Hillary Clinton</th>\n",
       "      <th>Other</th>\n",
       "    </tr>\n",
       "  </thead>\n",
       "  <tbody>\n",
       "    <tr>\n",
       "      <th>0</th>\n",
       "      <td>Accomack County</td>\n",
       "      <td>51001</td>\n",
       "      <td>ACCOMACK COUNTY</td>\n",
       "      <td># AB - Central Absentee Precinct</td>\n",
       "      <td>644</td>\n",
       "      <td>784</td>\n",
       "      <td>59</td>\n",
       "    </tr>\n",
       "    <tr>\n",
       "      <th>1</th>\n",
       "      <td>Accomack County</td>\n",
       "      <td>51001</td>\n",
       "      <td>ACCOMACK COUNTY</td>\n",
       "      <td>## Provisional</td>\n",
       "      <td>1</td>\n",
       "      <td>3</td>\n",
       "      <td>2</td>\n",
       "    </tr>\n",
       "    <tr>\n",
       "      <th>2</th>\n",
       "      <td>Accomack County</td>\n",
       "      <td>51001</td>\n",
       "      <td>ACCOMACK COUNTY</td>\n",
       "      <td>101 - CHINCOTEAGUE</td>\n",
       "      <td>1188</td>\n",
       "      <td>444</td>\n",
       "      <td>48</td>\n",
       "    </tr>\n",
       "    <tr>\n",
       "      <th>3</th>\n",
       "      <td>Accomack County</td>\n",
       "      <td>51001</td>\n",
       "      <td>ACCOMACK COUNTY</td>\n",
       "      <td>201 - ATLANTIC</td>\n",
       "      <td>553</td>\n",
       "      <td>175</td>\n",
       "      <td>22</td>\n",
       "    </tr>\n",
       "    <tr>\n",
       "      <th>4</th>\n",
       "      <td>Accomack County</td>\n",
       "      <td>51001</td>\n",
       "      <td>ACCOMACK COUNTY</td>\n",
       "      <td>202 - GREENBACKVILLE</td>\n",
       "      <td>697</td>\n",
       "      <td>302</td>\n",
       "      <td>31</td>\n",
       "    </tr>\n",
       "  </tbody>\n",
       "</table>\n",
       "</div>"
      ],
      "text/plain": [
       "               county_name   FIPS     jurisdiction  \\\n",
       "candidate                                            \n",
       "0          Accomack County  51001  ACCOMACK COUNTY   \n",
       "1          Accomack County  51001  ACCOMACK COUNTY   \n",
       "2          Accomack County  51001  ACCOMACK COUNTY   \n",
       "3          Accomack County  51001  ACCOMACK COUNTY   \n",
       "4          Accomack County  51001  ACCOMACK COUNTY   \n",
       "\n",
       "                                   precinct        votes                        \n",
       "candidate                                   Donald Trump Hillary Clinton Other  \n",
       "0          # AB - Central Absentee Precinct          644             784    59  \n",
       "1                            ## Provisional            1               3     2  \n",
       "2                        101 - CHINCOTEAGUE         1188             444    48  \n",
       "3                            201 - ATLANTIC          553             175    22  \n",
       "4                      202 - GREENBACKVILLE          697             302    31  "
      ]
     },
     "execution_count": 3,
     "metadata": {},
     "output_type": "execute_result"
    }
   ],
   "source": [
    "df.head()"
   ]
  },
  {
   "cell_type": "code",
   "execution_count": 12,
   "metadata": {},
   "outputs": [
    {
     "data": {
      "text/plain": [
       "MultiIndex(levels=[['votes', 'precinct', 'jurisdiction', 'FIPS', 'county_name'], ['Donald Trump', 'Hillary Clinton', 'Other', '']],\n",
       "           codes=[[4, 3, 2, 1, 0, 0, 0], [3, 3, 3, 3, 0, 1, 2]],\n",
       "           names=[None, 'candidate'])"
      ]
     },
     "execution_count": 12,
     "metadata": {},
     "output_type": "execute_result"
    }
   ],
   "source": [
    "df.columns"
   ]
  },
  {
   "cell_type": "code",
   "execution_count": null,
   "metadata": {},
   "outputs": [],
   "source": []
  }
 ],
 "metadata": {
  "kernelspec": {
   "display_name": "Python 3",
   "language": "python",
   "name": "python3"
  },
  "language_info": {
   "codemirror_mode": {
    "name": "ipython",
    "version": 3
   },
   "file_extension": ".py",
   "mimetype": "text/x-python",
   "name": "python",
   "nbconvert_exporter": "python",
   "pygments_lexer": "ipython3",
   "version": "3.7.3"
  }
 },
 "nbformat": 4,
 "nbformat_minor": 2
}
